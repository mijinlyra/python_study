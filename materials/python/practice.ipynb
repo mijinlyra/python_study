{
 "cells": [
  {
   "cell_type": "code",
   "execution_count": 1,
   "metadata": {},
   "outputs": [
    {
     "name": "stdout",
     "output_type": "stream",
     "text": [
      "안녕하세요\n"
     ]
    }
   ],
   "source": [
    "say = \"안녕하세요\"\n",
    "print(say)"
   ]
  },
  {
   "cell_type": "code",
   "execution_count": 16,
   "metadata": {},
   "outputs": [],
   "source": [
    "a = int(3)\n",
    "b = float(3)\n",
    "c = complex(3,2)"
   ]
  },
  {
   "cell_type": "code",
   "execution_count": 17,
   "metadata": {},
   "outputs": [
    {
     "name": "stdout",
     "output_type": "stream",
     "text": [
      "<class 'int'>\n"
     ]
    }
   ],
   "source": [
    "print(type(a))"
   ]
  },
  {
   "cell_type": "code",
   "execution_count": 18,
   "metadata": {},
   "outputs": [
    {
     "name": "stdout",
     "output_type": "stream",
     "text": [
      "<class 'float'>\n"
     ]
    }
   ],
   "source": [
    "print(type(b))"
   ]
  },
  {
   "cell_type": "code",
   "execution_count": 19,
   "metadata": {},
   "outputs": [
    {
     "name": "stdout",
     "output_type": "stream",
     "text": [
      "<class 'complex'>\n"
     ]
    }
   ],
   "source": [
    "print(type(c))"
   ]
  },
  {
   "cell_type": "code",
   "execution_count": 27,
   "metadata": {},
   "outputs": [],
   "source": [
    "d=50\n",
    "e=60"
   ]
  },
  {
   "cell_type": "code",
   "execution_count": 28,
   "metadata": {},
   "outputs": [
    {
     "name": "stdout",
     "output_type": "stream",
     "text": [
      "50 60\n"
     ]
    }
   ],
   "source": [
    "print(d,e)\n"
   ]
  },
  {
   "cell_type": "code",
   "execution_count": 23,
   "metadata": {},
   "outputs": [],
   "source": [
    "d//=e\n"
   ]
  },
  {
   "cell_type": "code",
   "execution_count": 29,
   "metadata": {},
   "outputs": [],
   "source": [
    "f = 'thank'\n",
    "g = 'you'"
   ]
  },
  {
   "cell_type": "code",
   "execution_count": 30,
   "metadata": {},
   "outputs": [
    {
     "data": {
      "text/plain": [
       "'thankyou'"
      ]
     },
     "execution_count": 30,
     "metadata": {},
     "output_type": "execute_result"
    }
   ],
   "source": [
    "f+g"
   ]
  },
  {
   "cell_type": "code",
   "execution_count": 31,
   "metadata": {},
   "outputs": [
    {
     "data": {
      "text/plain": [
       "'thank you'"
      ]
     },
     "execution_count": 31,
     "metadata": {},
     "output_type": "execute_result"
    }
   ],
   "source": [
    "f+\" \"+g"
   ]
  },
  {
   "cell_type": "code",
   "execution_count": 33,
   "metadata": {},
   "outputs": [
    {
     "data": {
      "text/plain": [
       "'youyou'"
      ]
     },
     "execution_count": 33,
     "metadata": {},
     "output_type": "execute_result"
    }
   ],
   "source": [
    "g*2"
   ]
  },
  {
   "cell_type": "code",
   "execution_count": 34,
   "metadata": {},
   "outputs": [
    {
     "name": "stdout",
     "output_type": "stream",
     "text": [
      "mijin's email address is mijin@mail.fresnostate.edu.\n"
     ]
    }
   ],
   "source": [
    "name = 'mijin'\n",
    "email = 'mijin@mail.fresnostate.edu'\n",
    "print(\"{}'s email address is {}.\".format(name,email)) "
   ]
  },
  {
   "cell_type": "code",
   "execution_count": 35,
   "metadata": {},
   "outputs": [
    {
     "name": "stdout",
     "output_type": "stream",
     "text": [
      "['Hi,', 'my', 'name', 'is', 'Mijin.', 'Nice', 'to', 'meet', 'you.']\n"
     ]
    }
   ],
   "source": [
    "s = 'Hi, my name is Mijin. Nice to meet you.'\n",
    "result = s.split(' ')\n",
    "print(result)"
   ]
  },
  {
   "cell_type": "code",
   "execution_count": 36,
   "metadata": {},
   "outputs": [
    {
     "data": {
      "text/plain": [
       "'MIJIN@MAIL.FRESNOSTATE.EDU'"
      ]
     },
     "execution_count": 36,
     "metadata": {},
     "output_type": "execute_result"
    }
   ],
   "source": [
    "email.upper()"
   ]
  },
  {
   "cell_type": "code",
   "execution_count": 37,
   "metadata": {},
   "outputs": [
    {
     "data": {
      "text/plain": [
       "'mijin@mail.fresnostate.edu'"
      ]
     },
     "execution_count": 37,
     "metadata": {},
     "output_type": "execute_result"
    }
   ],
   "source": [
    "email.lower()"
   ]
  },
  {
   "cell_type": "code",
   "execution_count": 38,
   "metadata": {},
   "outputs": [
    {
     "data": {
      "text/plain": [
       "'Mijin@mail.fresnostate.edu'"
      ]
     },
     "execution_count": 38,
     "metadata": {},
     "output_type": "execute_result"
    }
   ],
   "source": [
    "email.capitalize()"
   ]
  },
  {
   "cell_type": "code",
   "execution_count": 39,
   "metadata": {},
   "outputs": [],
   "source": [
    "score = [80, 30, 58, 28, 37, 18, 98,72]"
   ]
  },
  {
   "cell_type": "code",
   "execution_count": 40,
   "metadata": {},
   "outputs": [
    {
     "data": {
      "text/plain": [
       "98"
      ]
     },
     "execution_count": 40,
     "metadata": {},
     "output_type": "execute_result"
    }
   ],
   "source": [
    "max(score)"
   ]
  },
  {
   "cell_type": "code",
   "execution_count": 41,
   "metadata": {},
   "outputs": [
    {
     "data": {
      "text/plain": [
       "18"
      ]
     },
     "execution_count": 41,
     "metadata": {},
     "output_type": "execute_result"
    }
   ],
   "source": [
    "min(score)"
   ]
  },
  {
   "cell_type": "code",
   "execution_count": 42,
   "metadata": {},
   "outputs": [
    {
     "data": {
      "text/plain": [
       "421"
      ]
     },
     "execution_count": 42,
     "metadata": {},
     "output_type": "execute_result"
    }
   ],
   "source": [
    "sum(score)"
   ]
  },
  {
   "cell_type": "code",
   "execution_count": 53,
   "metadata": {},
   "outputs": [
    {
     "data": {
      "text/plain": [
       "[9, 11, 13, 15, 17, 19, 0, 3, 6, 9, 12, 15, 18]"
      ]
     },
     "execution_count": 53,
     "metadata": {},
     "output_type": "execute_result"
    }
   ],
   "source": [
    "test1 = list(range(9,20,2))\n",
    "test2 = list(range(0,20,3))\n",
    "test3 = list(range(3,57,6))\n",
    "test1 + test2"
   ]
  },
  {
   "cell_type": "code",
   "execution_count": 54,
   "metadata": {},
   "outputs": [
    {
     "data": {
      "text/plain": [
       "[9, 11, 13, 15, 17, 19, 9, 11, 13, 15, 17, 19]"
      ]
     },
     "execution_count": 54,
     "metadata": {},
     "output_type": "execute_result"
    }
   ],
   "source": [
    "test1*2"
   ]
  },
  {
   "cell_type": "code",
   "execution_count": 55,
   "metadata": {},
   "outputs": [
    {
     "data": {
      "text/plain": [
       "[9, 11, 13, 15, 17, 19, [100, 100]]"
      ]
     },
     "execution_count": 55,
     "metadata": {},
     "output_type": "execute_result"
    }
   ],
   "source": [
    "test1.append([100,100])\n",
    "test1"
   ]
  },
  {
   "cell_type": "code",
   "execution_count": 57,
   "metadata": {},
   "outputs": [
    {
     "data": {
      "text/plain": [
       "[9, 11, 13, 15, 17, 19, [100, 100], 99, 99]"
      ]
     },
     "execution_count": 57,
     "metadata": {},
     "output_type": "execute_result"
    }
   ],
   "source": [
    "test1.extend([99,99])\n",
    "test1"
   ]
  },
  {
   "cell_type": "code",
   "execution_count": 58,
   "metadata": {},
   "outputs": [
    {
     "data": {
      "text/plain": [
       "[9, 11, 13, 15, 17, 19, 99, 99]"
      ]
     },
     "execution_count": 58,
     "metadata": {},
     "output_type": "execute_result"
    }
   ],
   "source": [
    "del test1[6]\n",
    "test1"
   ]
  },
  {
   "cell_type": "code",
   "execution_count": 59,
   "metadata": {},
   "outputs": [
    {
     "name": "stdout",
     "output_type": "stream",
     "text": [
      "[9, 11, 13, 15, 17, 19]\n"
     ]
    }
   ],
   "source": [
    "test1[6:] = []\n",
    "print(test1)"
   ]
  },
  {
   "cell_type": "code",
   "execution_count": 60,
   "metadata": {},
   "outputs": [
    {
     "data": {
      "text/plain": [
       "[0, 1, 2, 3, 4, 5, 6, 7, 8, 9]"
      ]
     },
     "execution_count": 60,
     "metadata": {},
     "output_type": "execute_result"
    }
   ],
   "source": [
    "list(range(10))"
   ]
  },
  {
   "cell_type": "code",
   "execution_count": 61,
   "metadata": {},
   "outputs": [
    {
     "name": "stdout",
     "output_type": "stream",
     "text": [
      "['a', 1, 2, 3, 4, 5, 6, 7, 8, 9]\n"
     ]
    }
   ],
   "source": [
    "nums = list(range(10))\n",
    "nums1 = nums\n",
    "nums2 = nums[:] #just copy\n",
    "nums[0] = 'a'\n",
    "print(nums)"
   ]
  },
  {
   "cell_type": "code",
   "execution_count": 62,
   "metadata": {},
   "outputs": [
    {
     "name": "stdout",
     "output_type": "stream",
     "text": [
      "['a', 1, 2, 3, 4, 5, 6, 7, 8, 9]\n"
     ]
    }
   ],
   "source": [
    "print(nums1)"
   ]
  },
  {
   "cell_type": "code",
   "execution_count": 63,
   "metadata": {},
   "outputs": [
    {
     "name": "stdout",
     "output_type": "stream",
     "text": [
      "[0, 1, 2, 3, 4, 5, 6, 7, 8, 9]\n"
     ]
    }
   ],
   "source": [
    "print(nums2)"
   ]
  },
  {
   "cell_type": "code",
   "execution_count": 67,
   "metadata": {},
   "outputs": [
    {
     "data": {
      "text/plain": [
       "5"
      ]
     },
     "execution_count": 67,
     "metadata": {},
     "output_type": "execute_result"
    }
   ],
   "source": [
    "tpl = (6, 5, 4, 3, 2, 1)\n",
    "tpl[1]"
   ]
  },
  {
   "cell_type": "code",
   "execution_count": 69,
   "metadata": {},
   "outputs": [
    {
     "data": {
      "text/plain": [
       "dict_items([('ts', '2022-07-10T09:48:27Z'), ('username', '31zhi7o53'), ('platform', 'iOS 15.5 (iPhone14,2)'), ('ms_played', 195037), ('conn_country', 'KR'), ('ip_addr_decrypted', '39.113.31.135'), ('user_agent_decrypted', 'unknown'), ('master_metadata_track_name', 'Callgurls'), ('master_metadata_album_artist_name', 'Handbraekes'), ('master_metadata_album_album_name', '#1'), ('spotify_track_uri', 'spotify:track:6o4qyYaxggkY3lnBrj3tAu'), ('episode_name', None), ('episode_show_name', None), ('spotify_episode_uri', None), ('reason_start', 'trackdone'), ('reason_end', 'trackdone'), ('shuffle', False), ('skipped', None), ('offline', False), ('offline_timestamp', 1657446311469), ('incognito_mode', False)])"
      ]
     },
     "execution_count": 69,
     "metadata": {},
     "output_type": "execute_result"
    }
   ],
   "source": [
    "information = {\n",
    "    \"ts\": \"2022-07-10T09:48:27Z\",\n",
    "    \"username\": \"31zhi7o53\",\n",
    "    \"platform\": \"iOS 15.5 (iPhone14,2)\",\n",
    "    \"ms_played\": 195037,\n",
    "    \"conn_country\": \"KR\",\n",
    "    \"ip_addr_decrypted\": \"39.113.31.135\",\n",
    "    \"user_agent_decrypted\": \"unknown\",\n",
    "    \"master_metadata_track_name\": \"Callgurls\",\n",
    "    \"master_metadata_album_artist_name\": \"Handbraekes\",\n",
    "    \"master_metadata_album_album_name\": \"#1\",\n",
    "    \"spotify_track_uri\": \"spotify:track:6o4qyYaxggkY3lnBrj3tAu\",\n",
    "    \"episode_name\": None,\n",
    "    \"episode_show_name\": None,\n",
    "    \"spotify_episode_uri\": None,\n",
    "    \"reason_start\": \"trackdone\",\n",
    "    \"reason_end\": \"trackdone\",\n",
    "    \"shuffle\": False,\n",
    "    \"skipped\": None,\n",
    "    \"offline\": False,\n",
    "    \"offline_timestamp\": 1657446311469,\n",
    "    \"incognito_mode\": False\n",
    "}\n",
    "\n",
    "information.items()\n"
   ]
  },
  {
   "cell_type": "code",
   "execution_count": 70,
   "metadata": {},
   "outputs": [
    {
     "data": {
      "text/plain": [
       "dict_keys(['ts', 'username', 'platform', 'ms_played', 'conn_country', 'ip_addr_decrypted', 'user_agent_decrypted', 'master_metadata_track_name', 'master_metadata_album_artist_name', 'master_metadata_album_album_name', 'spotify_track_uri', 'episode_name', 'episode_show_name', 'spotify_episode_uri', 'reason_start', 'reason_end', 'shuffle', 'skipped', 'offline', 'offline_timestamp', 'incognito_mode'])"
      ]
     },
     "execution_count": 70,
     "metadata": {},
     "output_type": "execute_result"
    }
   ],
   "source": [
    "information.keys()"
   ]
  },
  {
   "cell_type": "code",
   "execution_count": 71,
   "metadata": {},
   "outputs": [
    {
     "data": {
      "text/plain": [
       "dict_values(['2022-07-10T09:48:27Z', '31zhi7o53', 'iOS 15.5 (iPhone14,2)', 195037, 'KR', '39.113.31.135', 'unknown', 'Callgurls', 'Handbraekes', '#1', 'spotify:track:6o4qyYaxggkY3lnBrj3tAu', None, None, None, 'trackdone', 'trackdone', False, None, False, 1657446311469, False])"
      ]
     },
     "execution_count": 71,
     "metadata": {},
     "output_type": "execute_result"
    }
   ],
   "source": [
    "information.values()"
   ]
  },
  {
   "cell_type": "code",
   "execution_count": 72,
   "metadata": {},
   "outputs": [
    {
     "name": "stdout",
     "output_type": "stream",
     "text": [
      "pass\n"
     ]
    }
   ],
   "source": [
    "# condition\n",
    "\n",
    "score = 30\n",
    "if score < 30:\n",
    "    print('fail')\n",
    "elif score >= 30:\n",
    "    print('pass')\n",
    "else:\n",
    "    print('bye')"
   ]
  },
  {
   "cell_type": "code",
   "execution_count": 73,
   "metadata": {},
   "outputs": [
    {
     "name": "stdout",
     "output_type": "stream",
     "text": [
      "0\n",
      "1\n",
      "2\n"
     ]
    }
   ],
   "source": [
    "for i in range(3):\n",
    "    print(i)"
   ]
  },
  {
   "cell_type": "code",
   "execution_count": 76,
   "metadata": {},
   "outputs": [
    {
     "name": "stdout",
     "output_type": "stream",
     "text": [
      "banana\n",
      "apple\n",
      "cherry\n"
     ]
    }
   ],
   "source": [
    "for r in ['banana', 'apple', 'cherry']:\n",
    "    print(r)"
   ]
  },
  {
   "cell_type": "code",
   "execution_count": 77,
   "metadata": {},
   "outputs": [
    {
     "name": "stdout",
     "output_type": "stream",
     "text": [
      "0\n",
      "1\n",
      "2\n"
     ]
    }
   ],
   "source": [
    "i = 0\n",
    "while i < 3:\n",
    "    print(i)\n",
    "    i+=1"
   ]
  },
  {
   "cell_type": "code",
   "execution_count": 78,
   "metadata": {},
   "outputs": [
    {
     "name": "stdout",
     "output_type": "stream",
     "text": [
      "2는 짝수입니다.\n",
      "4는 짝수입니다.\n",
      "6는 짝수입니다.\n",
      "2는 짝수입니다.\n",
      "4는 짝수입니다.\n",
      "8는 짝수입니다.\n",
      "4는 짝수입니다.\n",
      "6는 짝수입니다.\n",
      "14324는 짝수입니다.\n",
      "4623654634564는 짝수입니다.\n",
      "542753423456789876543212345678765432는 짝수입니다.\n"
     ]
    }
   ],
   "source": [
    "while True:\n",
    "    input_data = input(\"Only even number is being shown \\n If you'd like to exit. click\\n\")\n",
    "    if not input_data.isnumeric():\n",
    "        break\n",
    "    elif int(input_data) % 2 == 0 :\n",
    "        print(\"{}는 짝수입니다.\".format(input_data))\n",
    "    elif int(input_data) % 2 == 1 :\n",
    "        continue"
   ]
  },
  {
   "cell_type": "code",
   "execution_count": 84,
   "metadata": {},
   "outputs": [
    {
     "name": "stdout",
     "output_type": "stream",
     "text": [
      "조인성\n",
      "정우성\n",
      "장재열\n"
     ]
    }
   ],
   "source": [
    "name = ['조인성','정우성','장재열']\n",
    "for t in name:\n",
    "    print(t)"
   ]
  },
  {
   "cell_type": "code",
   "execution_count": 86,
   "metadata": {},
   "outputs": [
    {
     "name": "stdout",
     "output_type": "stream",
     "text": [
      "0 조인성\n",
      "1 정우성\n",
      "2 장재열\n"
     ]
    }
   ],
   "source": [
    "for i,j in enumerate(name):\n",
    "    print(i,j)"
   ]
  },
  {
   "cell_type": "code",
   "execution_count": 91,
   "metadata": {},
   "outputs": [
    {
     "name": "stdout",
     "output_type": "stream",
     "text": [
      "홀수는 [1, 3, 5, 7] 입니다.\n",
      "짝수는 [0, 2, 4, 6, 8] 입니다.\n"
     ]
    }
   ],
   "source": [
    "lst = list(range(9))\n",
    "lst_odd = [x for x in lst if x % 2 ==1]\n",
    "lst_even = [x for x in lst if x % 2 ==0]\n",
    "print(\"홀수는 {} 입니다.\".format(lst_odd))\n",
    "print(\"짝수는 {} 입니다.\".format(lst_even))"
   ]
  },
  {
   "cell_type": "code",
   "execution_count": 96,
   "metadata": {},
   "outputs": [
    {
     "name": "stdout",
     "output_type": "stream",
     "text": [
      "5\n"
     ]
    }
   ],
   "source": [
    "def sum1(a,b):\n",
    "    c = a+b\n",
    "    return c\n",
    "result = sum1(3,2)\n",
    "print(result)"
   ]
  },
  {
   "cell_type": "code",
   "execution_count": 103,
   "metadata": {},
   "outputs": [
    {
     "name": "stdout",
     "output_type": "stream",
     "text": [
      "1\n"
     ]
    }
   ],
   "source": [
    "z = 1\n",
    "def sum1(z):\n",
    "    z+=5\n",
    "sum1(z)\n",
    "print(z)"
   ]
  },
  {
   "cell_type": "code",
   "execution_count": 101,
   "metadata": {},
   "outputs": [
    {
     "name": "stdout",
     "output_type": "stream",
     "text": [
      "4\n"
     ]
    }
   ],
   "source": [
    "a = 1\n",
    "def sum1():\n",
    "    global a\n",
    "    a+=3\n",
    "sum1()\n",
    "print(a)\n"
   ]
  },
  {
   "cell_type": "code",
   "execution_count": 107,
   "metadata": {},
   "outputs": [
    {
     "name": "stdout",
     "output_type": "stream",
     "text": [
      "4 5 9\n",
      "(8, 3, 11)\n"
     ]
    }
   ],
   "source": [
    "def sum1_1(a,b):\n",
    "    return a,b, a+b\n",
    "\n",
    "d,e,f = sum1_1(4,5) #함수의 output이 3개일때 각각의 위치를 선정해주면 하나씩 받아진다.\n",
    "print(d,e,f)\n",
    "\n",
    "g = sum1_1(8,3) # 하나로 받아오면 tuple에 받아진다.\n",
    "print(g)"
   ]
  },
  {
   "cell_type": "code",
   "execution_count": 2,
   "metadata": {},
   "outputs": [
    {
     "name": "stdout",
     "output_type": "stream",
     "text": [
      "5\n"
     ]
    }
   ],
   "source": [
    "def sum1(a,b):\n",
    "    c = a+b\n",
    "    return c\n",
    "result = sum1(3,2)\n",
    "\n",
    "print(result)"
   ]
  },
  {
   "cell_type": "code",
   "execution_count": 3,
   "metadata": {},
   "outputs": [
    {
     "name": "stdout",
     "output_type": "stream",
     "text": [
      "2\n"
     ]
    }
   ],
   "source": [
    "a = 1\n",
    "def sum1():\n",
    "    global a\n",
    "    a+=1\n",
    "sum1()\n",
    "print(a)"
   ]
  },
  {
   "cell_type": "code",
   "execution_count": 7,
   "metadata": {},
   "outputs": [
    {
     "name": "stdout",
     "output_type": "stream",
     "text": [
      "1 2 3\n"
     ]
    }
   ],
   "source": [
    "def sum1_1(a,b):\n",
    "    return a,b, a+b\n",
    "d,e,f = sum1_1(1,2)\n",
    "print(d,e,f) # 함수의 ouput이 3개일때 각각의 위치를 선정해주면 하나씩 받아진다.\n"
   ]
  },
  {
   "cell_type": "code",
   "execution_count": 8,
   "metadata": {},
   "outputs": [
    {
     "name": "stdout",
     "output_type": "stream",
     "text": [
      "(1, 2, 3)\n"
     ]
    }
   ],
   "source": [
    "g = sum1_1(1,2)\n",
    "print(g) #하나로 받아오면 tuple에 받아진다."
   ]
  },
  {
   "cell_type": "code",
   "execution_count": 10,
   "metadata": {},
   "outputs": [
    {
     "data": {
      "text/plain": [
       "(55, tuple)"
      ]
     },
     "execution_count": 10,
     "metadata": {},
     "output_type": "execute_result"
    }
   ],
   "source": [
    "#함수와 변수\n",
    "\n",
    "# 함수로 보내는 파라미터 개수가 정해져잇어야하나?(가변매개변수)\n",
    "# 입력하는 변수가 10개일 때 10개를 전부 함수 input으로 적어주는 것이 아닌 *를 사용 \n",
    "def sum3(*args): # *arguments의 줄임말, 받으면 튜플로 받아들인다.\n",
    "    return sum(args), type(args)\n",
    "sum3(1,2,3,4,5,6,7,8,9,10)\n"
   ]
  },
  {
   "cell_type": "code",
   "execution_count": 12,
   "metadata": {},
   "outputs": [
    {
     "name": "stdout",
     "output_type": "stream",
     "text": [
      "<class 'dict'>\n"
     ]
    },
    {
     "data": {
      "text/plain": [
       "3"
      ]
     },
     "execution_count": 12,
     "metadata": {},
     "output_type": "execute_result"
    }
   ],
   "source": [
    "# 함수의 input으로 딕셔너리를 사용하는 경우 *를 두개 사용하여 받음\n",
    "def mean1(**kwargs): #kwargs : keyword argument 의 줄임말\n",
    "    print(type(kwargs))\n",
    "    return sum(kwargs.values())\n",
    "\n",
    "mean1(a=1, b=2)\n"
   ]
  },
  {
   "cell_type": "code",
   "execution_count": 19,
   "metadata": {},
   "outputs": [
    {
     "name": "stdout",
     "output_type": "stream",
     "text": [
      "3\n",
      "9\n",
      "13\n",
      "11\n",
      "17\n"
     ]
    }
   ],
   "source": [
    "# 클래스 : 함수만으로도 프로그램 만들기 가능. 클래스가 왜 필요할까? 계산잔고 유지하기 위해서 result 전역 변수(global)을 사용함. 만일 2종류의 코인 잔고가 필요하다면?\n",
    "result1 = 0          #0    3 \n",
    "def eth_balance(num): #3    6\n",
    "    global result1 # 0      3    \n",
    "    result1 += num # 0+=3  3+=6 \n",
    "    return result1 # 3     9\n",
    "\n",
    "result2 = 0\n",
    "def ehtc_balance(num):\n",
    "    global result2\n",
    "    result2 += num\n",
    "    return result2\n",
    "\n",
    "print(eth_balance(3))\n",
    "print(eth_balance(6))\n",
    "print(eth_balance(4))\n",
    "print(ehtc_balance(11))\n",
    "print(ehtc_balance(6))\n",
    "\n"
   ]
  },
  {
   "cell_type": "code",
   "execution_count": 20,
   "metadata": {},
   "outputs": [
    {
     "name": "stdout",
     "output_type": "stream",
     "text": [
      "eth코인 3개 매수 완료\n"
     ]
    }
   ],
   "source": [
    "# 클래스 \n",
    "# 여러 개의 잔고가 필요할수록 전역 변수와 함수를 추가해주어야함\n",
    "# 클래스를 사용한다면?\n",
    "# calculator 클래스로 만든 별개의 잔고 balance1, balance2(객체) 코인의 종류가 늘어나 계산해야 하는 잔고가 늘어나더라도 클래스를 통해 객체만 생성하면 됨\n",
    "class coin:\n",
    "    def __init__(self,name):\n",
    "        self.name = name\n",
    "        self.shares = 0\n",
    "    def buy(self,shares):\n",
    "        self.shares+=shares\n",
    "        print(self.name +\n",
    "              \"코인 {}개 매수 완료\".format(shares))\n",
    "balance1 = coin('eth')\n",
    "balance1.buy(3)\n",
    "\n",
    "\n",
    "\n",
    "    "
   ]
  },
  {
   "cell_type": "code",
   "execution_count": 23,
   "metadata": {},
   "outputs": [
    {
     "name": "stdout",
     "output_type": "stream",
     "text": [
      "eth코인 4개 매수 완료\n",
      "eth코인 38개 매수 완료\n"
     ]
    }
   ],
   "source": [
    "balance1.buy(4)\n",
    "balance1.buy(38)"
   ]
  },
  {
   "cell_type": "code",
   "execution_count": 24,
   "metadata": {},
   "outputs": [
    {
     "name": "stdout",
     "output_type": "stream",
     "text": [
      "ethc코인 55개 매수 완료\n"
     ]
    }
   ],
   "source": [
    "balance2 = coin('ethc')\n",
    "balance2.buy(55)"
   ]
  },
  {
   "cell_type": "code",
   "execution_count": null,
   "metadata": {},
   "outputs": [],
   "source": []
  },
  {
   "cell_type": "code",
   "execution_count": null,
   "metadata": {},
   "outputs": [],
   "source": []
  }
 ],
 "metadata": {
  "kernelspec": {
   "display_name": "Python 3",
   "language": "python",
   "name": "python3"
  },
  "language_info": {
   "codemirror_mode": {
    "name": "ipython",
    "version": 3
   },
   "file_extension": ".py",
   "mimetype": "text/x-python",
   "name": "python",
   "nbconvert_exporter": "python",
   "pygments_lexer": "ipython3",
   "version": "3.7.16"
  },
  "orig_nbformat": 4
 },
 "nbformat": 4,
 "nbformat_minor": 2
}
