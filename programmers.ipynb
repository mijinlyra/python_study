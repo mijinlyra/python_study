{
 "cells": [
  {
   "cell_type": "markdown",
   "metadata": {},
   "source": [
    "#1 \n",
    "\n",
    "input:\n",
    "\n",
    "4 5\n",
    "\n",
    "output:\n",
    "\n",
    "a = 4\n",
    "\n",
    "b = 5"
   ]
  },
  {
   "cell_type": "code",
   "execution_count": 7,
   "metadata": {},
   "outputs": [
    {
     "name": "stdout",
     "output_type": "stream",
     "text": [
      "a= 4\n",
      "b= 5\n"
     ]
    }
   ],
   "source": [
    "a,b = map(int, input().strip().split(' '))\n",
    "print(\"a=\", a)\n",
    "print(\"b=\", b)"
   ]
  },
  {
   "cell_type": "code",
   "execution_count": 10,
   "metadata": {},
   "outputs": [
    {
     "name": "stdout",
     "output_type": "stream",
     "text": [
      "newjeansnewjeansnewjeansnewjeans\n"
     ]
    }
   ],
   "source": [
    "# 2\n",
    "input_str = input(\"Enter a string followed by a space and a number: \")\n",
    "input_list = input_str.split()\n",
    "string_part = input_list[0]\n",
    "num_part = int(input_list[1])\n",
    "output_str = string_part * num_part\n",
    "print(output_str)"
   ]
  },
  {
   "cell_type": "code",
   "execution_count": 11,
   "metadata": {},
   "outputs": [
    {
     "name": "stdout",
     "output_type": "stream",
     "text": [
      "iveiveiveive\n"
     ]
    }
   ],
   "source": [
    "# 2\n",
    "a, b = input().strip().split(' ')\n",
    "b = int(b)\n",
    "\n",
    "result = a * b\n",
    "print(result)"
   ]
  },
  {
   "cell_type": "code",
   "execution_count": 4,
   "metadata": {},
   "outputs": [
    {
     "name": "stdout",
     "output_type": "stream",
     "text": [
      "whateverwhateverwhateverwhateverwhatever\n"
     ]
    }
   ],
   "source": [
    "a, b = input().strip().split(' ')\n",
    "print(a * int(b))"
   ]
  },
  {
   "cell_type": "code",
   "execution_count": 2,
   "metadata": {},
   "outputs": [
    {
     "name": "stdout",
     "output_type": "stream",
     "text": [
      "HeLLo My NamE is MI\n"
     ]
    }
   ],
   "source": [
    "# Q3\n",
    "def swap_case(input_str):\n",
    "    if len(input_str) < 1 or len(input_str) > 20:\n",
    "        return \"Error: The input length should be between 1 and 20.\"\n",
    "    swapped_str = \"\"\n",
    "    for char in input_str:\n",
    "        if char.islower():\n",
    "            swapped_str += char.upper()\n",
    "        elif char.isupper():\n",
    "            swapped_str += char.lower()\n",
    "        else:\n",
    "            swapped_str += char\n",
    "    return swapped_str\n",
    "\n",
    "# Taking input from the user\n",
    "str_input = input()\n",
    "\n",
    "# Call the function to swap the case and get the result\n",
    "result = swap_case(str_input)\n",
    "\n",
    "# Print the output\n",
    "print(result)\n"
   ]
  },
  {
   "cell_type": "code",
   "execution_count": 5,
   "metadata": {},
   "outputs": [
    {
     "name": "stdout",
     "output_type": "stream",
     "text": [
      "HeLLo My NamE is MI\n"
     ]
    }
   ],
   "source": [
    "# Q3 (same ouput another way much simpler code 1 lol)\n",
    "print(input().swapcase())"
   ]
  },
  {
   "cell_type": "code",
   "execution_count": 8,
   "metadata": {},
   "outputs": [
    {
     "name": "stdout",
     "output_type": "stream",
     "text": [
      "TOGetHEer sIDEpieCE"
     ]
    }
   ],
   "source": [
    "# Q3 (Another simple code 2)\n",
    "str = input()\n",
    "for i in str:\n",
    "    if i.islower():\n",
    "        print(i.upper(),end='')\n",
    "    else:\n",
    "        print(i.lower(),end='')"
   ]
  },
  {
   "cell_type": "code",
   "execution_count": 9,
   "metadata": {},
   "outputs": [
    {
     "name": "stdout",
     "output_type": "stream",
     "text": [
      "eLiO giRL ELio\n"
     ]
    }
   ],
   "source": [
    "# Q3 (Another simple code 3)\n",
    "str = input()\n",
    "\n",
    "answer = ''\n",
    "\n",
    "for a in str:\n",
    "    if a.isupper() :\n",
    "         answer += a.lower()\n",
    "    else :\n",
    "         answer += a.upper()\n",
    "\n",
    "print(answer)"
   ]
  },
  {
   "cell_type": "code",
   "execution_count": null,
   "metadata": {},
   "outputs": [],
   "source": []
  }
 ],
 "metadata": {
  "kernelspec": {
   "display_name": "Python 3",
   "language": "python",
   "name": "python3"
  },
  "language_info": {
   "codemirror_mode": {
    "name": "ipython",
    "version": 3
   },
   "file_extension": ".py",
   "mimetype": "text/x-python",
   "name": "python",
   "nbconvert_exporter": "python",
   "pygments_lexer": "ipython3",
   "version": "3.7.16"
  },
  "orig_nbformat": 4
 },
 "nbformat": 4,
 "nbformat_minor": 2
}
